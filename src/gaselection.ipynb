{
 "cells": [
  {
   "cell_type": "code",
   "execution_count": 43,
   "source": [
    "import numpy as np\n",
    "import random as r\n",
    "r.seed('lady gaga')\n",
    "templ = [0]\n",
    "pop=100\n",
    "epoch=200\n",
    "mu_rate=0.9\n",
    "co_rate=0.9\n",
    "TA_list=dict({})"
   ],
   "outputs": [],
   "metadata": {}
  },
  {
   "cell_type": "code",
   "execution_count": 44,
   "source": [
    "def extract_name(s):\n",
    "\tbegin = False\n",
    "\tend = False\n",
    "\tret = \"\"\n",
    "\tfor i in range(2, len(s)):\n",
    "\t\tif(s[i-1] == '*' and s[i-2] == '*'):\n",
    "\t\t\tif(begin == True):\n",
    "\t\t\t\tend = True\n",
    "\t\t\tbegin = True\n",
    "\t\tif(begin == True and end == False):\n",
    "\t\t\tret = ret+s[i]\n",
    "\tif(begin == False):\n",
    "\t\treturn ['', False]\n",
    "\tfor x in ret:\n",
    "\t\tif(x.isupper() == True):\n",
    "\t\t\treturn [ret[:-2], True]\n",
    "\treturn [ret[:-2], False]\n",
    "\n",
    "\n",
    "TA_list = dict({})\n",
    "with open('TAlist.txt', 'r') as f:\n",
    "\ts = ''\n",
    "\tfor l in f:\n",
    "\t\tret = extract_name(l)\n",
    "\t\tif(ret[1] == True):\n",
    "\t\t\ts = ret[0]\n",
    "\t\t\tTA_list[s] = []\n",
    "\t\telif(ret[0] != ''):\n",
    "\t\t\tTA_list[s].append(ret[0])\n"
   ],
   "outputs": [],
   "metadata": {}
  },
  {
   "cell_type": "code",
   "execution_count": 45,
   "source": [
    "def calc_value(x):\n",
    "\treturn r.randint(1,100)"
   ],
   "outputs": [],
   "metadata": {}
  },
  {
   "cell_type": "code",
   "execution_count": 46,
   "source": [
    "def generate_primary(n):\n",
    "\tret=[]\n",
    "\tfor x in TA_list.keys():\n",
    "\t\tif(len(TA_list[x])//10+1)>3:\n",
    "\t\t\ttempl.append(len(TA_list[x])-1)\n",
    "\t\ttempl.append(len(TA_list[x])-1)\n",
    "\tfor _ in range(n):\n",
    "\t\tc=[-1]\n",
    "\t\tfor x in templ:\n",
    "\t\t\tc.append(r.randint(0,x))\n",
    "\t\tc[0]=calc_value(c)\n",
    "\t\tret.append(c)\n",
    "\treturn ret\n"
   ],
   "outputs": [],
   "metadata": {}
  },
  {
   "cell_type": "code",
   "execution_count": 47,
   "source": [
    "def crossover(xi,xj):\n",
    "\ta=pop[xi].copy()\n",
    "\tb=pop[xj].copy()\n",
    "\tfor _ in range(r.randint(1,5)):\n",
    "\t\tif(r.random()<co_rate):\n",
    "\t\t\tptr=r.randint(1,len(a)-1)\n",
    "\t\t\ta[ptr:],b[ptr:]=b[ptr:],a[ptr:]\n",
    "\ta[0]=calc_value(a)\n",
    "\tb[0]=calc_value(b)\n",
    "\tls=[[pop[xi],0],[pop[xj],0],[a,1],[b,1]]\n",
    "\tls.sort()\n",
    "\tpop[xi]=ls[3]\n",
    "\tpop[xj]=ls[2]"
   ],
   "outputs": [],
   "metadata": {}
  },
  {
   "cell_type": "code",
   "execution_count": 48,
   "source": [
    "def mutation(xi):\n",
    "\tt=0\n",
    "\tmu=pop[xi].copy()\n",
    "\tfor x in range(1,len(templ)):\n",
    "\t\tif(r.random()<mu_rate and t<3):\n",
    "\t\t\tmu[r.randint(1,len(pop[xi])-1)]=r.randint(0,templ[x])\n",
    "\t\t\tt+=1\n",
    "\tif(t>0):\n",
    "\t\tmu[0]=calc_value(mu)\n",
    "\t\tif(mu[0]>pop[xi][0]):\n",
    "\t\t\tpop[xi]=mu"
   ],
   "outputs": [],
   "metadata": {}
  },
  {
   "cell_type": "code",
   "execution_count": 49,
   "source": [
    "generate_primary(3)\n",
    "templ"
   ],
   "outputs": [
    {
     "output_type": "execute_result",
     "data": {
      "text/plain": [
       "[0, 40, 40, 32, 32, 9, 19, 4, 13, 14]"
      ]
     },
     "metadata": {},
     "execution_count": 49
    }
   ],
   "metadata": {}
  }
 ],
 "metadata": {
  "kernelspec": {
   "name": "python3",
   "display_name": "Python 3.8.5 64-bit ('base': conda)"
  },
  "language_info": {
   "codemirror_mode": {
    "name": "ipython",
    "version": 3
   },
   "file_extension": ".py",
   "mimetype": "text/x-python",
   "name": "python",
   "nbconvert_exporter": "python",
   "pygments_lexer": "ipython3",
   "version": "3.8.5"
  },
  "interpreter": {
   "hash": "2041a3b862f3fa9f637759e2c3543b1659cb292a30b3181f9c75d44c13a3edd1"
  }
 },
 "nbformat": 4,
 "nbformat_minor": 4
}